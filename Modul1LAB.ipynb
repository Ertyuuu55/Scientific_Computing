{
  "nbformat": 4,
  "nbformat_minor": 0,
  "metadata": {
    "colab": {
      "provenance": [],
      "authorship_tag": "ABX9TyPsUbKOSjVy4vcFw+PdKrhI",
      "include_colab_link": true
    },
    "kernelspec": {
      "name": "python3",
      "display_name": "Python 3"
    },
    "language_info": {
      "name": "python"
    }
  },
  "cells": [
    {
      "cell_type": "markdown",
      "metadata": {
        "id": "view-in-github",
        "colab_type": "text"
      },
      "source": [
        "<a href=\"https://colab.research.google.com/github/Ertyuuu55/Scientific_Computing/blob/main/Modul1LAB.ipynb\" target=\"_parent\"><img src=\"https://colab.research.google.com/assets/colab-badge.svg\" alt=\"Open In Colab\"/></a>"
      ]
    },
    {
      "cell_type": "code",
      "source": [
        "def Calculate(uas, uts, assignment):\n",
        " nilai = (0.5 * uas) + (0.3 * uts) + (0.2 * assignment)\n",
        " print(f\"Final Score: {nilai}\")\n",
        "\n",
        " if 90 <= nilai <= 100:\n",
        "  print(\"Grade A\")\n",
        " elif 85 <= nilai <= 89:\n",
        "  print(\"Grade A-\")\n",
        " elif 80 <= nilai <= 84:\n",
        "  print(\"Grade B+\")\n",
        " elif 75 <= nilai <= 79:\n",
        "  print(\"Grade B\")\n",
        " elif 70 <= nilai <= 74:\n",
        "  print(\"Grade B-\")\n",
        " elif 65 <= nilai <= 69:\n",
        "  print(\"Grade C\")\n",
        " elif 50 <= nilai <= 64:\n",
        "  print(\"Grade D\")\n",
        " elif 0 < nilai <= 49:\n",
        "  print(\"Grade E\")\n",
        " elif nilai == 0:\n",
        "  print(\"Grade F\")"
      ],
      "metadata": {
        "id": "G1EsLZppqvr9"
      },
      "execution_count": 42,
      "outputs": []
    },
    {
      "cell_type": "code",
      "execution_count": 52,
      "metadata": {
        "id": "8YNkrXmSXLnp",
        "colab": {
          "base_uri": "https://localhost:8080/"
        },
        "outputId": "25269b3c-115f-4653-bc6f-01f8c1b3438d"
      },
      "outputs": [
        {
          "output_type": "stream",
          "name": "stdout",
          "text": [
            "Masukkan username anda : Buffallo\n",
            "Masukkan password anda : Bn123\n",
            "Login Berhasil, Selamat datang Buffallo\n",
            "\n",
            "Masukkan nama siswa : Brody Broda\n",
            "Masukkan Nilai UAS : 75\n",
            "Masukkan Nilai UTS : 75\n",
            "Masukan Nilai Assignment : 75\n",
            "================================================\n",
            "Hasil Perolehan nilai Brody Broda\n",
            "Final Score: 75.0\n",
            "Grade B\n"
          ]
        }
      ],
      "source": [
        "username = input(\"Masukkan username anda : \")\n",
        "password = input(\"Masukkan password anda : \")\n",
        "\n",
        "while True:\n",
        "  if password == \"Bn123\":\n",
        "    print(f\"Login Berhasil, Selamat datang {username}\")\n",
        "\n",
        "    nama = input(\"\\nMasukkan nama siswa : \")\n",
        "    uas = int(input(\"Masukkan Nilai UAS : \"))\n",
        "    uts = int(input(\"Masukkan Nilai UTS : \"))\n",
        "    assign = int(input(\"Masukan Nilai Assignment : \"))\n",
        "    print(\"================================================\")\n",
        "    print(f\"Hasil Perolehan nilai {nama}\")\n",
        "\n",
        "    Calculate(uas, uts, assign)\n",
        "    break\n",
        "\n",
        "  else:\n",
        "    print(\"Incorrect Password\")\n",
        "\n",
        "    username = input(\"\\nMasukkan username anda : \")\n",
        "    password = input(\"Masukkan password anda : \")"
      ]
    }
  ]
}