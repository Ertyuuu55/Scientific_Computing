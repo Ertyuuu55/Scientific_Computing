{
  "nbformat": 4,
  "nbformat_minor": 0,
  "metadata": {
    "colab": {
      "provenance": [],
      "authorship_tag": "ABX9TyNx9tDo8It/w9V9dU21Unwr",
      "include_colab_link": true
    },
    "kernelspec": {
      "name": "python3",
      "display_name": "Python 3"
    },
    "language_info": {
      "name": "python"
    }
  },
  "cells": [
    {
      "cell_type": "markdown",
      "metadata": {
        "id": "view-in-github",
        "colab_type": "text"
      },
      "source": [
        "<a href=\"https://colab.research.google.com/github/Ertyuuu55/Scientific_Computing/blob/main/Modul1LAB.ipynb\" target=\"_parent\"><img src=\"https://colab.research.google.com/assets/colab-badge.svg\" alt=\"Open In Colab\"/></a>"
      ]
    },
    {
      "cell_type": "code",
      "execution_count": 4,
      "metadata": {
        "colab": {
          "base_uri": "https://localhost:8080/"
        },
        "id": "8YNkrXmSXLnp",
        "outputId": "8fe6edab-a684-45f4-a3b7-b46392d6dcb2"
      },
      "outputs": [
        {
          "name": "stdout",
          "output_type": "stream",
          "text": [
            "Masukkan username anda : Eric\n",
            "Masukkan password anda : Bn123\n"
          ]
        }
      ],
      "source": [
        "val = input(\"Masukkan username anda : \")\n",
        "val = input(\"Masukkan password anda : \")\n",
        "\n",
        "if"
      ]
    }
  ]
}